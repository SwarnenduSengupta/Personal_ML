{
 "cells": [
  {
   "cell_type": "markdown",
   "metadata": {},
   "source": [
    "# LDA Basics "
   ]
  },
  {
   "cell_type": "markdown",
   "metadata": {},
   "source": [
    "## Theory"
   ]
  },
  {
   "cell_type": "markdown",
   "metadata": {},
   "source": [
    "It is a simple but powerful tool for __linear__ dimension reduction technique. It is similar to PCA. PCA finds component axes that would maximise __variance__ of the data, LDA separates the axes and creates a maximum separation. \n",
    "\n",
    "LDA is a supervised dimensionality reduction technique. The goal is to __project a dataset onto a lower-dimensional space with good class-separability in order avoid overfitting (“curse of dimensionality”)__ and also reduce computational costs. Basically, the added advantage LDA gives over PCA is to __tackle overfitting__."
   ]
  },
  {
   "cell_type": "markdown",
   "metadata": {},
   "source": [
    "Steps for LDA :-\n",
    "1. Compute d-dimensional mean vectors for different classes from the dataset, where d is the dimension of feature space.\n",
    "2. Compute in-between class and with-in class scatter matrices.\n",
    "3. Compute eigen vectors and corresponding eigen values for the scatter matrices.\n",
    "4. Choose k eigen vectors corresponding to top k eigen values to form a transformation matrix of dimension d x k.\n",
    "5. Transform the d-dimensional feature space X to k-dimensional feature space X_lda via the transformation matrix."
   ]
  },
  {
   "cell_type": "markdown",
   "metadata": {},
   "source": [
    "The dataset used here is bank note authentication dataset publicly available in UCI machine learning repository.\n"
   ]
  },
  {
   "cell_type": "markdown",
   "metadata": {},
   "source": [
    "Let us start by importing the libraries and seeing the data. Data seeing would help us visualise and understand the data better."
   ]
  },
  {
   "cell_type": "code",
   "execution_count": 1,
   "metadata": {},
   "outputs": [],
   "source": [
    "import numpy as np\n",
    "import pandas as pd\n",
    "import matplotlib.pyplot as plt\n",
    "import seaborn as sns\n",
    "import warnings\n",
    "warnings.filterwarnings('ignore')\n",
    "%matplotlib inline"
   ]
  },
  {
   "cell_type": "markdown",
   "metadata": {},
   "source": [
    "Now we read the data through the read.csv funtion of python."
   ]
  },
  {
   "cell_type": "code",
   "execution_count": 2,
   "metadata": {},
   "outputs": [],
   "source": [
    "columns = [\"var\",\"skewness\",\"curtosis\",\"entropy\",\"class\"]\n",
    "df = pd.read_csv(\"http://archive.ics.uci.edu/ml/machine-learning-databases/00267/\\\n",
    "data_banknote_authentication.txt\",index_col=False,names = columns)"
   ]
  },
  {
   "cell_type": "code",
   "execution_count": 3,
   "metadata": {},
   "outputs": [
    {
     "data": {
      "text/html": [
       "<div>\n",
       "<style scoped>\n",
       "    .dataframe tbody tr th:only-of-type {\n",
       "        vertical-align: middle;\n",
       "    }\n",
       "\n",
       "    .dataframe tbody tr th {\n",
       "        vertical-align: top;\n",
       "    }\n",
       "\n",
       "    .dataframe thead th {\n",
       "        text-align: right;\n",
       "    }\n",
       "</style>\n",
       "<table border=\"1\" class=\"dataframe\">\n",
       "  <thead>\n",
       "    <tr style=\"text-align: right;\">\n",
       "      <th></th>\n",
       "      <th>var</th>\n",
       "      <th>skewness</th>\n",
       "      <th>curtosis</th>\n",
       "      <th>entropy</th>\n",
       "      <th>class</th>\n",
       "    </tr>\n",
       "  </thead>\n",
       "  <tbody>\n",
       "    <tr>\n",
       "      <th>0</th>\n",
       "      <td>3.62160</td>\n",
       "      <td>8.6661</td>\n",
       "      <td>-2.8073</td>\n",
       "      <td>-0.44699</td>\n",
       "      <td>0</td>\n",
       "    </tr>\n",
       "    <tr>\n",
       "      <th>1</th>\n",
       "      <td>4.54590</td>\n",
       "      <td>8.1674</td>\n",
       "      <td>-2.4586</td>\n",
       "      <td>-1.46210</td>\n",
       "      <td>0</td>\n",
       "    </tr>\n",
       "    <tr>\n",
       "      <th>2</th>\n",
       "      <td>3.86600</td>\n",
       "      <td>-2.6383</td>\n",
       "      <td>1.9242</td>\n",
       "      <td>0.10645</td>\n",
       "      <td>0</td>\n",
       "    </tr>\n",
       "    <tr>\n",
       "      <th>3</th>\n",
       "      <td>3.45660</td>\n",
       "      <td>9.5228</td>\n",
       "      <td>-4.0112</td>\n",
       "      <td>-3.59440</td>\n",
       "      <td>0</td>\n",
       "    </tr>\n",
       "    <tr>\n",
       "      <th>4</th>\n",
       "      <td>0.32924</td>\n",
       "      <td>-4.4552</td>\n",
       "      <td>4.5718</td>\n",
       "      <td>-0.98880</td>\n",
       "      <td>0</td>\n",
       "    </tr>\n",
       "  </tbody>\n",
       "</table>\n",
       "</div>"
      ],
      "text/plain": [
       "       var  skewness  curtosis  entropy  class\n",
       "0  3.62160    8.6661   -2.8073 -0.44699      0\n",
       "1  4.54590    8.1674   -2.4586 -1.46210      0\n",
       "2  3.86600   -2.6383    1.9242  0.10645      0\n",
       "3  3.45660    9.5228   -4.0112 -3.59440      0\n",
       "4  0.32924   -4.4552    4.5718 -0.98880      0"
      ]
     },
     "execution_count": 3,
     "metadata": {},
     "output_type": "execute_result"
    }
   ],
   "source": [
    "df.head(5)"
   ]
  },
  {
   "cell_type": "markdown",
   "metadata": {},
   "source": [
    "##### Data were extracted from images that were taken from genuine and forged banknote-like specimens. For digitization, an industrial camera usually used for print inspection was used. The final images have 400x 400 pixels. Due to the object lens and distance to the investigated object gray-scale pictures with a resolution of about 660 dpi were gained. Wavelet Transform tool were used to extract features from images. "
   ]
  },
  {
   "cell_type": "markdown",
   "metadata": {},
   "source": [
    "## Attribute Defination"
   ]
  },
  {
   "cell_type": "markdown",
   "metadata": {},
   "source": [
    "1. variance of Wavelet Transformed image (continuous)\n",
    "2. skewness of Wavelet Transformed image (continuous)\n",
    "3. curtosis of Wavelet Transformed image (continuous)\n",
    "4. entropy of image (continuous)\n",
    "5. class (integer) "
   ]
  },
  {
   "cell_type": "code",
   "execution_count": 4,
   "metadata": {},
   "outputs": [
    {
     "data": {
      "text/plain": [
       "0    762\n",
       "1    610\n",
       "Name: class, dtype: int64"
      ]
     },
     "execution_count": 4,
     "metadata": {},
     "output_type": "execute_result"
    }
   ],
   "source": [
    "df['class'].value_counts()"
   ]
  },
  {
   "cell_type": "code",
   "execution_count": 5,
   "metadata": {},
   "outputs": [
    {
     "data": {
      "text/plain": [
       "Text(0,0.5,'Count')"
      ]
     },
     "execution_count": 5,
     "metadata": {},
     "output_type": "execute_result"
    },
    {
     "data": {
      "image/png": "[encoded data removed]",
      "text/plain": [
       "<Figure size 432x288 with 1 Axes>"
      ]
     },
     "metadata": {},
     "output_type": "display_data"
    }
   ],
   "source": [
    "plt.hist(df['class'])\n",
    "plt.xlabel('Class')\n",
    "plt.ylabel('Count')"
   ]
  },
  {
   "cell_type": "markdown",
   "metadata": {},
   "source": [
    "Next task would be to view the variables in terms of their distribution and if Gaussian Kernal Density estiamate is used.\n",
    "The first one is devoid of Gaussian Kernal Density estimate. The second one has Kernal Density estimate in it."
   ]
  },
  {
   "cell_type": "code",
   "execution_count": 6,
   "metadata": {},
   "outputs": [
    {
     "data": {
      "image/png": "[encoded data removed]",
      "text/plain": [
       "<Figure size 1080x216 with 4 Axes>"
      ]
     },
     "metadata": {},
     "output_type": "display_data"
    }
   ],
   "source": [
    "f, ax = plt.subplots(1, 4, figsize=(15,3))\n",
    "vis1 = sns.distplot(df[\"var\"],bins=10, ax= ax[0])\n",
    "vis2 = sns.distplot(df[\"skewness\"],bins=10, ax=ax[1])\n",
    "vis3 = sns.distplot(df[\"curtosis\"],bins=10, ax= ax[2])\n",
    "vis4 = sns.distplot(df[\"entropy\"],bins=10, ax=ax[3])\n",
    "f.savefig('subplot.png')"
   ]
  },
  {
   "cell_type": "markdown",
   "metadata": {},
   "source": [
    "Now the one with Gaussian Kernal Density estimate."
   ]
  },
  {
   "cell_type": "code",
   "execution_count": 7,
   "metadata": {},
   "outputs": [
    {
     "data": {
      "image/png": "[encoded data removed]",
      "text/plain": [
       "<Figure size 1080x216 with 4 Axes>"
      ]
     },
     "metadata": {},
     "output_type": "display_data"
    }
   ],
   "source": [
    "f, ax = plt.subplots(1, 4, figsize=(15,3))\n",
    "vis1 = sns.distplot(df[\"var\"],bins=100, ax= ax[0],kde=False)\n",
    "vis2 = sns.distplot(df[\"skewness\"],bins=100, ax=ax[1],kde=False)\n",
    "vis3 = sns.distplot(df[\"curtosis\"],bins=100, ax= ax[2],kde=False)\n",
    "vis4 = sns.distplot(df[\"entropy\"],bins=100, ax=ax[3],kde=False)\n",
    "f.savefig('subplot.png')"
   ]
  },
  {
   "cell_type": "markdown",
   "metadata": {},
   "source": [
    "From the above two figures it becomes evident that \n",
    "1. Setting kde to False doesn't fit the Gaussian normal estimated curve to the histograms.\n",
    "2. The histograms are not normalised. The value on the x-axis is the actual parameter value and the value on the y- axis represents the count at that particular value.\n",
    "3. The bins variable represents the specification of number of histogramic bins. Increasing the number of bins increases the accuracy or the representative nature of the graph. The higher the bin number the more accurate and higher the computation powere required to capture and calculate them."
   ]
  },
  {
   "cell_type": "markdown",
   "metadata": {},
   "source": [
    "#### Pairplot - to figure of the correlation and work amongst the parameters"
   ]
  },
  {
   "cell_type": "code",
   "execution_count": null,
   "metadata": {},
   "outputs": [],
   "source": [
    "sns.pairplot(df,hue=\"class\")"
   ]
  },
  {
   "cell_type": "markdown",
   "metadata": {},
   "source": [
    "Here we find that no single variable is giving us the clear demarkation of the class. Now, we will compute the 4-dimensional mean vectors for both the classes (4 = number of features). Unlike PCA, standardization of the data is not needed in LDA as it doesn’t affect the output. The reason why there’s no effect of standardization on the main results in LDA is that LDA decomposes ratio of Between-to-Within covariances, and not the covariance itself having its magnitude (as PCA does)."
   ]
  },
  {
   "cell_type": "code",
   "execution_count": 10,
   "metadata": {},
   "outputs": [
    {
     "name": "stdout",
     "output_type": "stream",
     "text": [
      "[array([ 2.27668601,  4.25662719,  0.79671797, -1.14764028]), array([-1.86844256, -0.99357612,  2.14827101, -1.24664075])]\n"
     ]
    }
   ],
   "source": [
    "mean_vec = []\n",
    "for i in df[\"class\"].unique():\n",
    "    mean_vec.append( np.array((df[df[\"class\"]==i].mean()[:4]) ))\n",
    "print(mean_vec)"
   ]
  },
  {
   "cell_type": "markdown",
   "metadata": {},
   "source": [
    "The next step is to calculate the with-in class scatter matrices and in-between class scatter matrices."
   ]
  },
  {
   "cell_type": "code",
   "execution_count": 20,
   "metadata": {},
   "outputs": [
    {
     "name": "stdout",
     "output_type": "stream",
     "text": [
      "within-class Scatter Matrix:\n",
      " [[67148.31582715 59851.57586442 33647.2999493  61962.23716637]\n",
      " [59851.57586442 54422.39063631 34924.93445202 55992.8414432 ]\n",
      " [33647.2999493  34924.93445202 39513.21458794 34555.3647926 ]\n",
      " [61962.23716637 55992.8414432  34555.3647926  57719.55400432]]\n",
      "between-class Scatter Matrix:\n",
      " [[ 5.82112206e+03  7.37300999e+03 -1.89802442e+03  1.39029178e+02]\n",
      " [ 7.37300999e+03  9.33862504e+03 -2.40403016e+03  1.76093803e+02]\n",
      " [-1.89802442e+03 -2.40403016e+03  6.18866372e+02 -4.53315997e+01]\n",
      " [ 1.39029178e+02  1.76093803e+02 -4.53315997e+01  3.32051315e+00]]\n"
     ]
    }
   ],
   "source": [
    "SW = np.zeros((4,4))\n",
    "for i in range(1,4): #2 is number of classes\n",
    "    per_class_sc_mat = np.zeros((4,4))\n",
    "    for j in range(df[df[\"class\"]==i].shape[0]):\n",
    "        #print(df.loc[j][:4])\n",
    "        row= df.loc[j][:4].tolist()\n",
    "        mv=mean_vec[i].reshape(4,1)\n",
    "        per_class_sc_mat += (row-mv).dot((row-mv).T)\n",
    "    SW += per_class_sc_mat\n",
    "    \n",
    "print('within-class Scatter Matrix:\\n', SW)\n",
    "overall_mean = np.array(df.drop(\"class\", axis=1).mean())\n",
    "SB = np.zeros((4,4))\n",
    "\n",
    "for i in range(2): #2 is number of classes\n",
    "    n = df[df[\"class\"]==i].shape[0]\n",
    "    mv = mean_vec[i].reshape(4,1)\n",
    "    overall_mean = overall_mean.reshape(4,1) # make column vector\n",
    "    SB += n * (mv - overall_mean).dot((mv - overall_mean).T)\n",
    "    \n",
    "print('between-class Scatter Matrix:\\n', SB)"
   ]
  },
  {
   "cell_type": "markdown",
   "metadata": {},
   "source": [
    "Next, we need to solve the generalized eigenvalue problem for the matrix inverse(SW).SB to obtain the linear discriminants."
   ]
  },
  {
   "cell_type": "code",
   "execution_count": 23,
   "metadata": {},
   "outputs": [
    {
     "name": "stdout",
     "output_type": "stream",
     "text": [
      "Eigenvectors \n",
      "[[-0.78339214  0.69459883  0.03238718  0.10803661]\n",
      " [ 0.57581776 -0.66648951 -0.01321028  0.01006967]\n",
      " [-0.15283585  0.17690231  0.12068209  0.43590109]\n",
      " [ 0.17712108 -0.20501164  0.99207479  0.89342987]]\n",
      "\n",
      "Eigenvalues \n",
      "[-4.68750000e-02  2.94618953e+13  9.64275326e-05  9.16229296e-04]\n"
     ]
    }
   ],
   "source": [
    "e_vals, e_vecs = np.linalg.eig(np.linalg.inv(SW).dot(SB))\n",
    "\n",
    "print('Eigenvectors \\n%s' %e_vecs)\n",
    "print('\\nEigenvalues \\n%s' %e_vals)"
   ]
  },
  {
   "cell_type": "code",
   "execution_count": null,
   "metadata": {},
   "outputs": [],
   "source": [
    "https://medium.com/journey-2-artificial-intelligence/lda-linear-discriminant-analysis-using-python-2155cf5b6398"
   ]
  }
 ],
 "metadata": {
  "kernelspec": {
   "display_name": "Python 3",
   "language": "python",
   "name": "python3"
  },
  "language_info": {
   "codemirror_mode": {
    "name": "ipython",
    "version": 3
   },
   "file_extension": ".py",
   "mimetype": "text/x-python",
   "name": "python",
   "nbconvert_exporter": "python",
   "pygments_lexer": "ipython3",
   "version": "3.6.5"
  }
 },
 "nbformat": 4,
 "nbformat_minor": 2
}
